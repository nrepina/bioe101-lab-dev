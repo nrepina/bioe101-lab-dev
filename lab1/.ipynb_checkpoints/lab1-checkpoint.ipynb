{
 "cells": [
  {
   "cell_type": "markdown",
   "metadata": {},
   "source": [
    "# Lab 1 #\n"
   ]
  },
  {
   "cell_type": "markdown",
   "metadata": {},
   "source": [
    "## Oscilloscope\n",
    "<a id='oscope'></a>\n",
    "\n",
    "The oscilloscope is another useful piece of test equipment that can be used to measure signals that change over time. Unlike the multimeter, which only shows the instantaneous voltage value, the oscilloscope shows a graph of a voltage versus time. This is particularly useful for measuring how devices like sensors respond to inputs. Although this instrument may appear complicated, half of the knobs are just to adjust the axes of the voltage plot. \n",
    "<center>\n",
    "<img src=\"http://www-inst.eecs.berkeley.edu/~ee16a/sp15/Labs/imaging/nb_img/scope.jpg\" align=\"center\" style=\"height:200px\" />\n",
    "</center>\n",
    "Below is a brief overview of how to use this oscilloscope:\n",
    "<br/><br/>\n",
    "1. <strong>Obtain a Probe:</strong>\n",
    "Grab an Oscope probe from the back wall. They are gray and have two connectors at one of the ends: The gray connector is a spring loaded clip (pull back to expose clip), and the other connector is a black alligator clip. Your probe might be missing the gray shell on the spring loaded clip, but that's okay.\n",
    "<br/><br/>\n",
    "2. <strong>Test the Probe!:</strong>\n",
    "Turn the Oscope on (button in bottom left corner). Connect the probe to one of the 4 input channels. Make sure that the channel is on (indicated by a green light on the channel number). To turn a channel on, simply press the corresponding numbered button. To turn it off, push the button twice. To test the probe, first locate the 3 metal testing tabs to the left of the 1st input channel (pictured below). Connect the black alligator clip of the probe to the middle (horizontal) tab. Connect the spring loaded clip end (or just the probe tip if your probe lacks a shell) to the leftmost tab (vertical). With the probe connected, hit the auto-scale button in the the top right (pictured below). If your output is a square wave (pictured below), then your probe is working. If your output is not a square wave, tell your GSI immediately and get a new probe.\n",
    "<center>\n",
    "<img src=\"http://inst.eecs.berkeley.edu/~ee16a/images/lab0/oscope_test.jpg\" align=\"center\" style=\"height:200px\" />\n",
    "</center>\n",
    "<br><br>\n",
    "\n",
    "3. <strong>Connect your probe to your circuit.</strong>\n",
    "Again, this is a hypothecial circuit.\n",
    "<br><br>\n",
    "4. <strong>Auto-scale:</strong>\n",
    "Potentially skip steps 5-7 by using the Auto-scale button (see image above) to automatically scale the axes. \n",
    "<span style=\"color:red\">CAUTION: </span> Some signals are too weak or fast for auto detect to reliabliy scale the axes, and in general it is good practice to manually adjust the knobs yourself.\n",
    "<br><br>\n",
    "5. <strong>Adjust the horizontal axis of the plot.</strong>\n",
    "The large knob at the top left controls the horizontal time axis and allows you to zoom in or out. The time increments represented by the tick marks on the plot are indicated at the top of the screen.\n",
    "<br><br>\n",
    "6. <strong>Adjust the vertical scale.</strong>\n",
    "The larger of the two knobs for each channel allows the vertical scale of the voltage graph to be adjusted. As with the horizontal scale, the number of volts per tick mark on the graph is marked at the top of the screen.\n",
    "<br><br>\n",
    "7. <strong>Adjust the offset.</strong>\n",
    "In some cases, signals will appear off screen; adjusting the smaller of the two knobs corresponding to each input will shift signals up or down on the plot.\n",
    "<br><br>\n",
    "8. <strong>Add measurements such as average voltage, amplitude, etc.</strong>\n",
    "Measurements can be added by pushing the \"Meas\" button and using the buttons at the bottom of the screen to select and add measurements.\n",
    "<br>\n",
    "\n",
    "Most of the functions described above are explained below:\n",
    "<center>\n",
    "<img src=\"http://inst.eecs.berkeley.edu/~ee16a/images/lab0/oscilloscope_intro.gif\" align=\"center\" style=\"height:280px\" />\n",
    "</center>"
   ]
  },
  {
   "cell_type": "markdown",
   "metadata": {},
   "source": [
    "### Function Generator\n",
    "<a id='fg'></a>\n",
    "The Function Generator is a device that enables us to output a voltage that varies with time (in contrast to the Power Supply which outputs a constant voltage). When the flow of electric charge in a signal periodically reverses, i.e. the sign of the signal changes periodically, the signal is labeled \"AC\" for Alternating Current. When an electric signal is constant with time, it is labeled \"DC\" for Direct Current. Here a simple graphic showing the difference.\n",
    "<center>\n",
    "<img src=\"http://youfoundourwebsite.com/audi/xscp/kits/electromagnets/dc_ac_current.jpg\" algin=\"center\" style=\"height:200px\" />\n",
    "</center>\n",
    "<center>\n",
    "<img src=\"http://www.newark.com/productimages/standard/en_US/4685430.jpg?01AD=3Ol7JStRx1z99osHbSIpuicXHfvlISvE82_WqucNIaSCYzQP23Vr1rA&01RI=2EA1D26E527FDA8&01NA=\" align=\"center\" style=\"height:150px\" />\n",
    "</center>\n",
    "<br><br>\n",
    "Below is the series of steps to output an AC signal from the function generator:\n",
    "1. <strong>Get a Function Generator probe.</strong> They are located next to the Oscope probes and have a red alligator clip on one end.\n",
    "<br><br>\n",
    "2. <strong>Turn the machine on. </strong>(hold the power button for about 2 seconds).\n",
    "<br><br>\n",
    "3. The buttons to the right of the screen are menu buttons. Buttons to the bottom of the screen are selection buttons. Push the \"Waveform\" menu button and then use the bottom left selection button to select the desired waveform. \n",
    "<br><br>\n",
    "4. Use the \"Parameters\" menu button to set specific properties of your output, such as amplitude, frequency, bias, etc. Just like the Power Supply, use the arrows to select a digit and the wheel to select a value.\n",
    "<br><br>\n",
    "5. When you are ready to output, connect your probe to channel 1. Push the channel 1 button above the probe connection (confirm the light behind the channel 1 button is illuminated) and use the leftmost selection button to set the output to ON.\n",
    "<br><br>"
   ]
  },
  {
   "cell_type": "markdown",
   "metadata": {},
   "source": [
    "### Testing the Oscilloscope and Function Generator ###\n",
    "\n",
    "<a id='test2'></a>\n",
    "Follow these steps to test the Oscilloscope and Function Generator:\n",
    "<br>\n",
    "1. Grab one Oscilloscope probe and one Function Generator probe from the back wall of the lab. <strong>Test the Oscope probe!</strong>\n",
    "<br><br>\n",
    "2. Hookup the Oscilloscope to the Function Generator using the image below as a reference.\n",
    "<center>\n",
    "<img src=\"http://inst.eecs.berkeley.edu/~ee16a/images/f_gen.png\" align=\"center\" style=\"height:200px\" />\n",
    "</center>\n",
    "<br><br>\n",
    "3. Follow the steps from [Function Generator](#fg) to have the Function Generator output a 10kHz sine wave with an amplitude between 1-10V (make sure you set \"Output = On\").\n",
    "<br><br>\n",
    "4. Follow the steps from [Oscilloscope](#oscope) to display this sine wave on the Oscilloscope. Don't forget to Auto-scale.\n"
   ]
  },
  {
   "cell_type": "markdown",
   "metadata": {},
   "source": [
    "## Python and Serial Data"
   ]
  },
  {
   "cell_type": "markdown",
   "metadata": {},
   "source": [
    "The block of code below imports the necessary libraries for most of the processing you'll want to do"
   ]
  },
  {
   "cell_type": "code",
   "execution_count": null,
   "metadata": {
    "collapsed": false
   },
   "outputs": [],
   "source": [
    "# allows plots to be plotted right below the cell when run\n",
    "%matplotlib inline \n",
    "import serial # the library for reading from serial com ports\n",
    "import numpy as np # naming convention for numpy library\n",
    "import matplotlib.pyplot as plt # naming convention for matplotlib\n",
    "from scipy.fftpack import fft, ifft # import discrete fourier transform and its inverse"
   ]
  },
  {
   "cell_type": "markdown",
   "metadata": {},
   "source": [
    "This block of code will take a device connected to a com port and read in data that is sent over the serial line. In this case our device is an Arduino. It then writes the raw data to a text file to be stored and read later"
   ]
  },
  {
   "cell_type": "code",
   "execution_count": null,
   "metadata": {
    "collapsed": false
   },
   "outputs": [],
   "source": [
    "device = \"COM<fill in here>\" # com port of Arduino\n",
    "baud = 57600\n",
    "ser = serial.Serial(device, baud, timeout=10)\n",
    "\n",
    "raw_data = []\n",
    "while (len(raw_data) < FILL_IN_HERE): # adjust this line to read in more/less data\n",
    "    data = float(ser.readline())\n",
    "    raw_data.append(data)\n",
    "ser.close()\n",
    "\n",
    "with open(\"raw_data.txt\", \"w\") as data:\n",
    "    for i in raw_data:\n",
    "        data.writelines(str(i)+'\\n')"
   ]
  },
  {
   "cell_type": "markdown",
   "metadata": {},
   "source": [
    "This block of code in data from a text file and plots it, with the sample number being the time axis."
   ]
  },
  {
   "cell_type": "code",
   "execution_count": null,
   "metadata": {
    "collapsed": false
   },
   "outputs": [],
   "source": [
    "with open(\"raw_data_old.txt\", \"r\") as raw_data_txt:\n",
    "    loaded_data = raw_data_txt.readlines()\n",
    "    \n",
    "signal = loaded_data\n",
    "plt.plot(signal[0:len(signal)])\n",
    "plt.figure()\n",
    "plt.plot(signal[:500])"
   ]
  }
 ],
 "metadata": {
  "kernelspec": {
   "display_name": "Python 3",
   "language": "python",
   "name": "python3"
  },
  "language_info": {
   "codemirror_mode": {
    "name": "ipython",
    "version": 3
   },
   "file_extension": ".py",
   "mimetype": "text/x-python",
   "name": "python",
   "nbconvert_exporter": "python",
   "pygments_lexer": "ipython3",
   "version": "3.5.2"
  }
 },
 "nbformat": 4,
 "nbformat_minor": 0
}
