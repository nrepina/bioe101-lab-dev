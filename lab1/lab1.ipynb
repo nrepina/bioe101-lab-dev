{
 "cells": [
  {
   "cell_type": "markdown",
   "metadata": {},
   "source": [
    "# BioE 101 Lab 1#\n",
    "## Electrical Test Equipment and Arduino Coding ##\n",
    "\n",
    "## Objectives: ##\n",
    "<a id='objectives'></a>\n",
    "- Learn how to use an oscilloscope and function generator.<br>\n",
    "- Learn to use breadboard to build and test simple circuits like resistive voltage divider, and RLC filter.<br>\n",
    "- Learn how to use an Arduino and Python to acquire signals.<br>"
   ]
  },
  {
   "cell_type": "markdown",
   "metadata": {},
   "source": [
    "## 1. Setup\n",
    "- We should generally have 2 people per lab station.\n",
    "- Your team should have the following items on your station: oscilloscope (with one test probe), function generator, power supply, Arduino Uno (with grey serial cable), multi-meter, breadboard, jumperwire kits, pliers, BNC cable and adaptors.\n",
    "- You can get the electronic parts such as the resistors, capacitors, diodes, etc. from the supply bins near the cable rack.\n",
    "- Please keep all the lab equipment in lab only.\n",
    "- Before you leave the lab, make sure the power for all the equipment is switched off."
   ]
  },
  {
   "cell_type": "markdown",
   "metadata": {},
   "source": [
    "## 2. Introducing the Oscilloscope and Functional Generator\n",
    "<br></br>\n",
    "<center>\n",
    "<img src=\"http://inst.eecs.berkeley.edu/~ee16a/images/f_gen.png\" align=\"center\" style=\"height:200px\" />\n",
    "</center>\n",
    "<br></br>\n",
    "\n",
    "- The oscilloscope allows us to view electrical signals (voltages or currents).\n",
    "Sometimes, it is used in conjunction with a function generator to observe the effect\n",
    "that a test signal has at one or more point(s) in our circuit. \n",
    "This is very useful in\n",
    "determining, for example, the input/output characteristics (i.e. the transfer\n",
    "function) of an amplifier. \n",
    "Despite their age, these scopes are very powerful tools.\n",
    "These oscilloscopes are digital, meaning they convert the analog signals at their\n",
    "inputs into numeric waveforms with the sampling rate and scaling parameters that\n",
    "you specify. \n",
    "This offers some very important advantages over analog oscilloscopes\n",
    "of the old days.\n",
    "\n",
    "- The function generator allows us to apply test signals to our circuit such as sine\n",
    "waves, square waves, pulses, triangle waves, and even waveforms which we define\n",
    "ourselves (referred to as “arbitrary waveforms”). We can control frequency and\n",
    "amplitude, and we can even sweep through many frequencies/amplitudes in order\n",
    "to test our device with a range of conditions.\n",
    "\n",
    "- Take a good look at your oscilloscope and answer the following questions:\n",
    "\n",
    "<a id = 'oscope_questions'></a>\n",
    "<strong>Question 2.1:</strong> What is the bandwidth of this oscilloscope? What does that mean for the signals you will be able to observe with it? What would the sampling rate of the ADC inside the scope have to be in order to achieve this bandwidth?\n",
    "\n",
    "<strong>Question 2.2:</strong>\n",
    "What is the input impedance of this scope? Why would that matter?\n",
    "\n",
    "- Use the BNC cable to directly connect the output of the function generator to\n",
    "channel 1 of the oscilloscope. Make sure channel 1 is on and the scope is acquiring\n",
    "signals.\n",
    "\n",
    "- Set the function generator to a 100 Hz, 1V sine wave with 0V offset. Turn on the\n",
    "output by pressing the “disable” button so the light goes off.\n",
    "\n",
    "- Adjust the scope time and voltage scales to comfortably see several periods of the\n",
    "waveform. To do this, you will need to familiarize yourself with 3 controls:\n",
    "\n",
    "- Volts/Div: This sets the Y scale of each channel (channel 1 and 2 are set\n",
    "independently). The current scale is in the upper left corner of the screen. A value\n",
    "of 500mV, for example, means that each horizontal line in the grid corresponds to\n",
    "500mV.\n",
    "\n",
    "- Time/Div: This sets the X scale of both channels (they must be the same). The\n",
    "current value is in the upper right corner of the screen. Note that as you “zoom out”\n",
    "on the waveform, the sampling rate drops.\n",
    "\n",
    "- Voltage Position: Each channel has an additional knob that lets you move the\n",
    "waveform up and down on the screen. This is useful when you want to display\n",
    "multiple waveforms.\n",
    "\n",
    "- Trigger Source, Mode, and Level: The trigger is useful for synchronizing your display\n",
    "to the signal so it doesn’t scroll across your screen. Edge triggering (also called\n",
    "“normal” triggering) causes the display to refresh only when the signal crosses the\n",
    "threshold amplitude. You can trigger on either channel 1 or 2, and you can adjust the\n",
    "triggering threshold. You can also specify whether you want the signal to trigger on\n",
    "a low-high transition or a high-low transition. If “auto” is selected, the trigger values\n",
    "are ignored and the screen constantly refreshes. Auto triggering can be useful\n",
    "initially for setting up scope parameters. Try adjusting the trigger parameters and\n",
    "see what happens to your signal.\n",
    "\n",
    "\n",
    "<strong>Question 2.3</strong>\n",
    "What is (roughly) the largest and smallest voltage that you could observe with this scope (hint: try changing the volts/div knob to see the limits)? What is (roughly) the fastest and slowest frequency that you could observe with this scope?\n",
    "\n",
    "<strong>Question 2.4</strong>\n",
    "What happens when you set the trigger to a voltage that your sine wave never reaches?\n",
    "\n",
    "- Play with the function generator and see how the signal changes. Try changing the\n",
    "frequency, amplitude, offset, and waveform type (sine, square, triangle). When\n",
    "you’re done, set it back to 100 Hz, 1V sine.\n",
    "\n",
    "- Cursors are a handy way to measure signal voltages and timing on the oscilloscope.\n",
    "Pressing the “cursors” button will turn them on. Make sure the “Source” for the\n",
    "cursors is set to channel 1. Use the buttons below the screen to select which cursor\n",
    "you want to move and the knob near the cursor button to move the cursor. The\n",
    "positions and distances appear at the bottom of the screen. Using the cursors, verify\n",
    "that the amplitude is 1V and the period is 1/100 = 10ms.\n",
    "\n",
    "\n",
    "<strong>Question 2.5</strong>\n",
    "Is 1V the peak-to-peak amplitude, the RMS amplitude, or the peak\n",
    "amplitude?\n",
    "\n",
    "\n",
    "- You can also have the scope automatically measure voltage and timing parameters\n",
    "by pressing the Voltage/Time buttons under the “Measure” label. You can have it\n",
    "display 3 different quantities at a time. Try displaying the average voltage value,\n",
    "RMS voltage value, and frequency of your waveform. Make sure “Source” is set to\n",
    "channel 1.\n",
    "\n",
    "- Try changing the function generator to a square wave, then to a sawtooth wave.\n",
    "\n",
    "\n",
    "<strong>Question 2.6</strong>\n",
    "How do the 3 measurement quantities on your scope (average value, RMS\n",
    "value, and frequency) change for a sine, square, and triangle wave? Explain what you see."
   ]
  },
  {
   "cell_type": "markdown",
   "metadata": {},
   "source": [
    "## 3. Introducing the Breadboard\n",
    "\n",
    "- The breadboard is a powerful tool to test and debug the circuit design since no\n",
    "soldering is required. A typical breadboard consists of a perforated block of plastic\n",
    "with metal spring clips under the perforations. The clips are interconnected\n",
    "following a certain pattern underneath the plastic block (see the example below).The holes connected by the imaginary lines means that they are shorted.\n",
    "Electronic parts can be connected by plugging into the interconnected holes or by\n",
    "jumper wires.\n",
    "\n",
    "<br><br>\n",
    "<center>\n",
    "<img src=\"http://energia.nu/wordpress/wp-content/uploads/2015/07/Sidekick_Breadboard_Internal_Connections.jpg\" align=\"center\" style=\"height:250px\" />\n",
    "</center>\n",
    "<br><br>\n",
    "\n",
    "- Take a look at the interconnection pattern above, the layout of a typical\n",
    "breadboard is made up from two parts: terminal strips and bus strips. Terminal\n",
    "strips are the main areas to hold the most electronic components. The holes are\n",
    "usually grouped into five in a column. Bus strips, usually run on the long side and\n",
    "are typically used for providing power to the circuits being built within the terminal\n",
    "strips area.\n",
    "\n",
    "**Question 3.1** How can you test your own breadboard to determine its interconnection\n",
    "pattern? Draw a simple diagram to explain how the holes in your breadboard are\n",
    "interconnected.\n",
    "\n",
    "\n",
    "- Jumper wires with 22 AWG (American wire gauge) can be used to connect two\n",
    "electronic parts. The wire ends should be stripped 3/16’’ to 5/16’’. Shorter stripped\n",
    "wires might result in bad contact with the board’s spring clips (insulation being\n",
    "caught in the springs). Longer stripped wires increase the likelihood of shortcircuits\n",
    "on the board. Needle-nose pliers and tweezers are helpful when inserting or \n",
    "removing wires, particularly on crowded boards. One tip for keeping your circuit\n",
    "neat and readable is to use different color wires for different signal paths.\n",
    "\n",
    "- The breadboard is reusable after each time by removing all the parts and jumper\n",
    "wires from the board. "
   ]
  },
  {
   "cell_type": "markdown",
   "metadata": {},
   "source": [
    "## 4. Build Circuits and Measure Circuit Parameters\n",
    "In this lab, we will build two circuits – (1) resistive voltage divider, and (2) a simple RC\n",
    "filter. Keep your circuits on the breadboard until the end of the lab, since we need the\n",
    "circuits throughout the rest of the experiment.\n",
    "\n",
    "- Voltage divider: it is a simple linear circuit that produces an output voltage ($V_{out}$)\n",
    "that is a fraction of its input voltage ($V_{in}$). A simple example of a voltage divider\n",
    "consists of two resistors in series. It is commonly used to create a\n",
    "reference voltage, and may also be used as a signal attenuator.\n",
    "\n",
    "- Build the circuit on the breadboard using two resistors. Choose $R_1 = 3.3\\text{k}\\Omega$ , $R_2 = 10\\text{k}\\Omega$\n",
    ". Use a multi-meter to make sure that the resistors are of the correct values. Note\n",
    "that resistor values are printed on the outside as a series of colored bands. Take a\n",
    "look at the chart below to verify that you have a $3.3\\text{k}\\Omega$ and $10\\text{k}\\Omega$ resistor.\n",
    "\n",
    "- One hint to manage your power supply and ground system is to use the strip bus:\n",
    "make sure you connect the strip bus to the banana plugs which connect to the\n",
    "external power supply.\n",
    "<br><br>\n",
    "<center>\n",
    "<img src=\"https://puu.sh/thn1v/d58177f684.png\" align=\"center\" style=\"height:400px\" />\n",
    "</center>\n",
    "<br><br>\n",
    "\n",
    "**Question 4.1** Suppose you accidentally picked up a $33\\text{k}\\Omega$ and a $100\\Omega$ resistor. What\n",
    "would the color bands look like instead?\n",
    "\n",
    "- Feed Vin with 5V from the power supply. Turn on the power supply, press and hold\n",
    "the “6V” button to limit the output range of the power supply from 0V to 6V. Then\n",
    "tune the dial to set the output voltage to 5V. You can tell the actual output voltage by\n",
    "reading the number on the display panel. Hook the output of the power supply to\n",
    "the breadboard. Test the voltage output using the multi-meter.\n",
    "\n",
    "**Question 4.2** What is the output voltage? Explain how this circuit can be worked as a\n",
    "voltage divider? Can I use small resistors (like $1\\Omega$) for this application and why?\n",
    "\n",
    "- RC filter: you can turn the resistive voltage divider into a filter by simply replacing\n",
    "R2 by a capacitor. Choose $R$ to be $3.3\\text{k}\\Omega$ and $C$ to be $0.01 \\mu\\text{F}$. Build the RC\n",
    "circuit on the breadboard. Analyze this circuit and answer the following questions.\n",
    "\n",
    "**Question 4.3** What type of filter is it (high-pass, low-pass, band-pass, band-stop)? What is\n",
    "the cut-off frequency of this filter (here we use the $-3\\text{dB}$ definition)? Sketch the Bode plot of\n",
    "your filter.\n",
    "\n",
    "- Connect the input Vin of this filter to the function generator and hook the output to\n",
    "the oscilloscope. Tune the function generator to output a sine wave of frequency\n",
    "9kHz, 5 Vpeak, 50 % duty cycle, 0V offset.\n",
    "\n",
    "**Question 4.4** What does the output signal look like? How does it compare to the input\n",
    "signal? Is this what you would expect? How would you experimentally get the Bode plot?"
   ]
  },
  {
   "cell_type": "markdown",
   "metadata": {},
   "source": [
    "## 5. Introducing the Arduino\n",
    "\n",
    "The Arduino is an open-source physical computing platform made up of two parts: a simple\n",
    "microcontroller board and a development environment for writing software to the board.\n",
    "Arduinos can be used to develop interactive objects, taking inputs from a variety of switches or\n",
    "sensors, and controlling a variety of lights, motors, and other physical outputs. Arduino projects\n",
    "can be stand-alone, or they can communicate with software running on your computer. The\n",
    "programming language for the free, open-source IDE is an implementation of Wiring, with\n",
    "libraries written in C++.\n",
    "\n",
    "There are many very attractive features of arduinos, including low board cost, easy-to-use\n",
    "programming environment, and virtually limitless supply of online resources and tutorials due to\n",
    "its immense popularity and fan-base.\n",
    "\n",
    "Hardware - Arduino Uno Board: We will be using the Arduino Uno Rev 3 boards, with a\n",
    "schematic and overview of the various pins shown below:\n",
    "\n",
    "<br><br>\n",
    "<center>\n",
    "<img src=\"https://camo.githubusercontent.com/0174ab1436903eb06dfea280a83c389460637054/68747470733a2f2f7261776769746875622e636f6d2f426f756e692f41726475696e6f2d50696e6f75742f6d61737465722f41726475696e6f253230556e6f253230523325323050696e6f75742e706e67\n",
    "\" align=\"center\" style=\"height:600px\" />\n",
    "</center>\n",
    "</strong>\n",
    "<br><br>\n",
    "\n",
    "Note the difference between digital and analog pins. Digital pins use 5V (HIGH or 1) and GND (LOW or 0) as it's only signals (with some threshold before 5V and after GND to be\n",
    "considered HIGH or LOW). Analog pins receive/output a value between 0V and 5V encoded between 0 and 1023 (if the ADC is 10 bit).\n",
    "\n",
    "Here you will learn how to upload code to Arduino. We have given you a .ino file that programs the Arduino to sample at a given sampling rate.\n",
    "\n",
    "### Connecting the Arduino:\n",
    "\n",
    "- Using a standard USB cable (A plug to B plug), connect the Arduino to computer.\n",
    "\n",
    "-  Launch the Arduino application\n",
    "\n",
    "- Under the ‘Tools>Board’ menu select the type of board you’re using (Arduino Uno), and\n",
    "under ‘Tools>Serial Port’, select the serial (USB port) that your arduino is connected to\n",
    "(there should be be only one option).\n",
    "\n",
    "Follow these steps to test the Oscilloscope and Function Generator:\n",
    "\n",
    "- Start the Arduino IDE and open the ** 'send_serial.ino' ** file in your lab1 folder\n",
    "\n",
    "<br><br>\n",
    "<center>\n",
    "<img src=\"https://puu.sh/rlITS/bf36937725.png\" align=\"center\" style=\"height:600px\" />\n",
    "</center>\n",
    "</strong>\n",
    "<br><br>\n",
    "\n",
    "- Click the arrow button next to the check button to upload your code to your board. The text near the bottom of the IDE should say your \n",
    "code was uploaded successfully. During this process you should see the TX/RX leds blink rapidly on your board.\n",
    "\n",
    "### Interfacing Arduino with Lab Equipment\n",
    "Instead of using the oscilloscope to see the voltage waveform, you can now view the waveform by going to 'Tools>Serial Plotter' and view a real time plot\n",
    "of the function generator wave. You can only view up to a few hundred hertz before the signal aliases. This is okay since biomedical signals are usually at a\n",
    "very low frequency.\n",
    "\n",
    "### Design Problem\n",
    "You're building a circuit for your biomedical startup. However, you keep finding that there's this huge interference when looking at the voltage outputs.\n",
    "It's the power line interference at 60 Hz! Things to consider: the biomedical signal you want to acquire does not have any frequency components past 30 Hz.\n",
    "\n",
    "\n",
    "Let's get rid of that pesky 60 Hz interference from the power lines. \n",
    "\n",
    "** Question 5.1 ** Build a first order RC lowpass Filter that would take care of the problem. What will your RC value and cut-off frequency be? (Hint: don't forget that \n",
    "annoying $2\\pi$ factor)? Is it okay that we're filtering every frequency past that cut-off frequency?\n",
    "\n",
    "** Question 5.2 ** Let's test that the circuit actually filters out the 60 Hz. Let our desired signal be 5 Hz. Send that through the arduino and \n",
    "view the waveform. Now send 60 Hz through the arduino and view it. What is the difference in magnitude of those frequencies, \n",
    "assuming the input amplitude was the same?\n",
    "\n",
    "** Question 5.3 ** Find the cut-off frequency of your real circuit by tuning the frequency until it is roughly 0.7 times the amplitude of the input \n",
    "(where did that number come from?) Compare that to the one you calculated. Explain any differences.\n",
    "\n",
    "** QUestion 5.4 (Bonus) ** Let's say that you want to suppress the 60 Hz interference even further. What are some options you can try? What are the trade-offs\n",
    "/risks to those options?\n"
   ]
  },
  {
   "cell_type": "markdown",
   "metadata": {},
   "source": [
    "# End of Lab 1, rest is used for lab 2 and python tutorial/prelab\n",
    "\n",
    "\n",
    "\n",
    "## Python and Serial Data\n",
    "\n",
    "The block of code below imports the necessary libraries for most of the processing you'll want to do\n",
    "\n"
   ]
  },
  {
   "cell_type": "code",
   "execution_count": 1,
   "metadata": {
    "collapsed": false
   },
   "outputs": [],
   "source": [
    "# allows plots to be plotted right below the cell when run\n",
    "%matplotlib inline \n",
    "import serial # the library for reading from serial com ports\n",
    "import numpy as np # naming convention for numpy library\n",
    "import matplotlib.pyplot as plt # naming convention for matplotlib\n",
    "from scipy.fftpack import fft, ifft # import discrete fourier transform and its inverse\n",
    "import warnings warnings.filterwarnings('ignore')"
   ]
  },
  {
   "cell_type": "markdown",
   "metadata": {},
   "source": [
    "This block of code will take a device connected to a com port and read in data that is sent over the serial line. In this case our device is an Arduino. It then writes the raw data to a text file to be stored and read later."
   ]
  },
  {
   "cell_type": "code",
   "execution_count": null,
   "metadata": {
    "collapsed": false
   },
   "outputs": [],
   "source": [
    "device = \"COM8\" # com port of Arduino\n",
    "baud = 115200\n",
    "ser = serial.Serial(device, baud, timeout=10)\n",
    "\n",
    "def read_serial_data(N):\n",
    "    raw_data = []\n",
    "    while (len(raw_data) < N+10): # adjust this line to read in more/less data\n",
    "        data = ser.readline()\n",
    "        raw_data.append(data)\n",
    "    data = []\n",
    "    for i in raw_data:\n",
    "        try:\n",
    "            data.append(float(i))\n",
    "        except:\n",
    "            continue\n",
    "    return data\n",
    "ser.close()\n",
    "\n",
    "raw_data = read_serial_data(2000)\n",
    "\n",
    "with open(\"raw_data.txt\", \"w\") as data:\n",
    "    for i in raw_data:\n",
    "        data.writelines(str(i)+'\\n')"
   ]
  },
  {
   "cell_type": "markdown",
   "metadata": {},
   "source": [
    "This block of code in data from a text file and plots it, with the sample number being the time axis."
   ]
  },
  {
   "cell_type": "code",
   "execution_count": 5,
   "metadata": {
    "collapsed": false
   },
   "outputs": [
    {
     "data": {
      "text/plain": [
       "[<matplotlib.lines.Line2D at 0xa6bc0107f0>]"
      ]
     },
     "execution_count": 5,
     "metadata": {},
     "output_type": "execute_result"
    },
    {
     "data": {
      "image/png": "[encoded data removed]",
      "text/plain": [
       "<matplotlib.figure.Figure at 0xa6be4f44e0>"
      ]
     },
     "metadata": {},
     "output_type": "display_data"
    },
    {
     "data": {
      "image/png": "[encoded data removed]",
      "text/plain": [
       "<matplotlib.figure.Figure at 0xa6be4f44a8>"
      ]
     },
     "metadata": {},
     "output_type": "display_data"
    }
   ],
   "source": [
    "with open(\"raw_data_old.txt\", \"r\") as raw_data_txt:\n",
    "    loaded_data = raw_data_txt.readlines()\n",
    "    \n",
    "signal = loaded_data\n",
    "plt.plot(signal[0:len(signal)])\n",
    "plt.figure()\n",
    "plt.plot(signal[:200])"
   ]
  },
  {
   "cell_type": "code",
   "execution_count": 7,
   "metadata": {
    "collapsed": false
   },
   "outputs": [
    {
     "name": "stderr",
     "output_type": "stream",
     "text": [
      "c:\\Anaconda3\\lib\\site-packages\\numpy\\core\\numeric.py:474: ComplexWarning: Casting complex values to real discards the imaginary part\n",
      "  return array(a, dtype, copy=False, order=order)\n"
     ]
    },
    {
     "data": {
      "text/plain": [
       "[<matplotlib.lines.Line2D at 0xa6be7b7240>]"
      ]
     },
     "execution_count": 7,
     "metadata": {},
     "output_type": "execute_result"
    },
    {
     "data": {
      "image/png": "[encoded data removed]",
      "text/plain": [
       "<matplotlib.figure.Figure at 0xa6be905470>"
      ]
     },
     "metadata": {},
     "output_type": "display_data"
    }
   ],
   "source": [
    "sig_fft = fft(signal)\n",
    "plt.plot(sig_fft)"
   ]
  },
  {
   "cell_type": "markdown",
   "metadata": {},
   "source": [
    "# 4. Voltage Divider and RC Filter #"
   ]
  },
  {
   "cell_type": "markdown",
   "metadata": {},
   "source": [
    "<center>\n",
    "<img src=\"http://inst.eecs.berkeley.edu/~ee16a/images/f_gen.png\" align=\"center\" style=\"height:200px\" />\n",
    "</center>"
   ]
  },
  {
   "cell_type": "markdown",
   "metadata": {},
   "source": [
    "<center>\n",
    "<img src=\"https://puu.sh/thn1v/d58177f684.png\" align=\"center\" style=\"height:400px\" />\n",
    "</center>"
   ]
  },
  {
   "cell_type": "markdown",
   "metadata": {},
   "source": [
    "<center>\n",
    "<img src=\"http://energia.nu/wordpress/wp-content/uploads/2015/07/Sidekick_Breadboard_Internal_Connections.jpg\" align=\"center\" style=\"height:250px\" />\n",
    "</center>"
   ]
  },
  {
   "cell_type": "markdown",
   "metadata": {},
   "source": [
    "<center>\n",
    "<img src=\"http://puu.sh/thnD7/02bb5736e7.jpg\" align=\"center\" style=\"height:300px\" />\n",
    "</center>"
   ]
  }
 ],
 "metadata": {
  "anaconda-cloud": {},
  "kernelspec": {
   "display_name": "Python 3",
   "language": "python",
   "name": "python3"
  },
  "language_info": {
   "codemirror_mode": {
    "name": "ipython",
    "version": 3
   },
   "file_extension": ".py",
   "mimetype": "text/x-python",
   "name": "python",
   "nbconvert_exporter": "python",
   "pygments_lexer": "ipython3",
   "version": "3.4.3"
  }
 },
 "nbformat": 4,
 "nbformat_minor": 0
}
