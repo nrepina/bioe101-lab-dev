{
 "cells": [
  {
   "cell_type": "markdown",
   "metadata": {},
   "source": [
    "# BioE 101 Lab 2#\n",
    "\n",
    "## Objectives: ##\n",
    "\n",
    "- Learn how to program with IPython\n",
    "\n",
    "- Use IPython to plot signals in the time and frequency domain\n",
    "\n",
    "- Observe aliasing, harmonic distortion, and quantization error in sampled data\n",
    "\n",
    "- Connect a microphone to your Arduino\n",
    "\n",
    "- Estimate noise and SNR from microphone recordings\n",
    "\n",
    "- Build an algorithm with IPython to distinguish you and your partner’s voice\n"
   ]
  },
  {
   "cell_type": "markdown",
   "metadata": {},
   "source": [
    "## Part 1: IPython ##\n",
    "\n",
    "get a sample waveform from a function generator, sample with arduino, feed it through serial and plot the signal and its dft\n",
    "\n",
    "observe aliasing with arduino plotter\n",
    "\n",
    "observe harmonic distortion with dft\n",
    "\n",
    "oberserve quantization error with zoomed in python plot\n",
    "\n",
    "## Part 2: Microphone ##\n",
    "\n",
    "measure noise - measure without voice\n",
    "measure signal - measure peak amplitude of signal\n",
    "\n",
    "distinguish between you and partner's voice - compare peaks of cross correlated voice data "
   ]
  },
  {
   "cell_type": "markdown",
   "metadata": {},
   "source": [
    "Follow the sample produre from Lab1 to set up the adrino with a function generator：\n",
    "1. Start the Arduino IDE and open the .ino file in your lab1 folder\n",
    "2. Under \"Tools\", select \"Arduino/Genuino Uno\" as your Board and select the COM Port corresponding to your board.\n",
    "3. Set the sampleing Rate to be 100 samples/sec. \n",
    "4. Click the arrow button next to the check button to upload your code to your board. The text near the bottom of the IDE should say your code was uploaded successfully.\n",
    "5. Give a 30Hz 1volt peak to peak signal to the adrino board and start the plotting.  "
   ]
  },
  {
   "cell_type": "markdown",
   "metadata": {},
   "source": [
    "### Question 1 : What did you observe in the plotter? Does this obey the Nyquist Sampling Therom? "
   ]
  },
  {
   "cell_type": "markdown",
   "metadata": {},
   "source": [
    "Answer: "
   ]
  },
  {
   "cell_type": "markdown",
   "metadata": {},
   "source": [
    "6.Now, change the frequency of the input source to be 1 volt peak-to-peak with 50Hz, 60Hz and 80Hz in the function generator.   "
   ]
  },
  {
   "cell_type": "markdown",
   "metadata": {},
   "source": [
    "### Question 2: What did you observe in the plotter? Does this obey the Nyquist Sampling Therom? "
   ]
  },
  {
   "cell_type": "markdown",
   "metadata": {},
   "source": [
    "Answer:"
   ]
  },
  {
   "cell_type": "markdown",
   "metadata": {},
   "source": [
    "The Python code below is an introduction on how to use \"fft\" and \"ifft\" fucntion form \"scipy.fftpack\" to do fourier transfrom and inverse fourier transform. In the given arduino file, you already send the file to Serial after each run. Here, We import the data from Serial and do Fourier Analysis for it. After you run the arduino file, plaese run the code below. Make sure you "
   ]
  },
  {
   "cell_type": "code",
   "execution_count": 3,
   "metadata": {
    "collapsed": true
   },
   "outputs": [],
   "source": [
    "# allows plots to be plotted right below the cell when run\n",
    "%matplotlib inline \n",
    "import serial # the library for reading from serial com ports\n",
    "import numpy as np # naming convention for numpy library\n",
    "import matplotlib.pyplot as plt # naming convention for matplotlib\n",
    "from scipy.fftpack import fft, ifft # import discrete fourier transform and its inverse"
   ]
  },
  {
   "cell_type": "code",
   "execution_count": null,
   "metadata": {
    "collapsed": false
   },
   "outputs": [],
   "source": [
    "\n",
    "def read_serial_data(N):\n",
    "    device = \"COM8\" # com port of Arduino\n",
    "    baud = 115200\n",
    "    ser = serial.Serial(device, baud, timeout=10)\n",
    "    raw_data = []\n",
    "    while (len(raw_data) < N+5): # adjust this line to read in more/less data\n",
    "        data = ser.readline()\n",
    "        raw_data.append(data)\n",
    "    raw_data = [float(i) for i in raw_data[5:]]\n",
    "    ser.close()\n",
    "\n"
   ]
  },
  {
   "cell_type": "code",
   "execution_count": null,
   "metadata": {
    "collapsed": true
   },
   "outputs": [],
   "source": [
    "with open(\"raw_data.txt\", \"w\") as data:\n",
    "    for i in raw_data:\n",
    "        data.writelines(str(i)+'\\n')\n"
   ]
  },
  {
   "cell_type": "code",
   "execution_count": null,
   "metadata": {
    "collapsed": false
   },
   "outputs": [],
   "source": [
    "\n",
    "with open(\"raw_data_old.txt\", \"r\") as raw_data_txt:\n",
    "    loaded_data = raw_data_txt.readlines()\n",
    "    \n",
    "signal = loaded_data\n",
    "plt.plot(signal[:30])"
   ]
  },
  {
   "cell_type": "code",
   "execution_count": null,
   "metadata": {
    "collapsed": false
   },
   "outputs": [],
   "source": [
    "dft = fft(signal)\n",
    "fs = 2000\n",
    "N = len(dft)\n",
    "freqs = [i*fs/N for i in range(N)]\n",
    "plt.plot(freqs[0:100], np.abs(dft[0:100]))"
   ]
  }
 ],
 "metadata": {
  "anaconda-cloud": {},
  "kernelspec": {
   "display_name": "Python [conda root]",
   "language": "python",
   "name": "conda-root-py"
  },
  "language_info": {
   "codemirror_mode": {
    "name": "ipython",
    "version": 3
   },
   "file_extension": ".py",
   "mimetype": "text/x-python",
   "name": "python",
   "nbconvert_exporter": "python",
   "pygments_lexer": "ipython3",
   "version": "3.5.2"
  }
 },
 "nbformat": 4,
 "nbformat_minor": 0
}
