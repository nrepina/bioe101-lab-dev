{
 "cells": [
  {
   "cell_type": "markdown",
   "metadata": {},
   "source": [
    "# BioE 101 Lab 2#\n",
    "\n",
    "## Objectives: ##\n",
    "\n",
    "- Learn how to program with IPython\n",
    "\n",
    "- Use IPython to plot signals in the time and frequency domain\n",
    "\n",
    "- Observe aliasing, harmonic distortion, and quantization error in sampled data\n",
    "\n",
    "- Connect a microphone to your Arduino\n",
    "\n",
    "- Estimate noise and SNR from microphone recordings\n",
    "\n",
    "- Build an algorithm with IPython to distinguish you and your partner’s voice\n",
    "\n",
    "\n"
   ]
  },
  {
   "cell_type": "markdown",
   "metadata": {},
   "source": [
    "##1.  Displaying signals in time and frequency domain with Python\n",
    "\n",
    "\n",
    "- Connect your function generator to the MyDAQ analog input 0. Make sure\n",
    "the ground wire is connected to ground on your MyDAQ. You will need to\n",
    "use the BNC binding post adapters and two pieces of wire.\n",
    "\n",
    "- Add a “DAQ Assist” block to your block diagram. Configure this block to\n",
    "acquire voltage signals from analog input 0. Use the appropriate settings to\n",
    "record waveforms with a maximum frequency of 500Hz (Nyquist) and\n",
    "10Vpp. The samples to read buffer should be set up so that the buffer will\n",
    "span a half second. \n",
    "\n",
    "    i. Labview will automatically place your DAQ Assist block inside a\n",
    "while loop to enable continuous acquisition. It will not, however,\n",
    "enclose the rest of the components you create below in a while loop.\n",
    "You should create a single while loop now to enclose everything\n",
    "created below.\n",
    "\n",
    "- Once your DAQ Assistant is set up, add a waveform graph to your front\n",
    "panel (note: don’t use a waveform “chart”…it’s behavior is slightly different)\n",
    "\n",
    "- Connect the “data” output of your DAQ Assistant block to the input of your\n",
    "Waveform Graph. Make sure the Graph is located within the while loop on\n",
    "your block diagram so that it gets updated every time the loop executes.\n",
    "\n",
    "- Set your function generator to output a sinusoid at 100Hz, 2Vpp.\n",
    "\n",
    "- Run your Labview VI and verify that you can see the signal from the function\n",
    "generator. Do this with a waveform graph, not waveform chart. By default,\n",
    "the axes autoscale. You can manually adjust the X/Y scale of the graph by\n",
    "right clicking on the axes and turning off autoscale and then clicking on the\n",
    "labels and changing them yourself, or by right clicking on the graph and\n",
    "editing the property pages. Experiment with it until you get a comfortable\n",
    "view of your waveform.\n",
    "\n",
    "- Now add a “Spectral Measurement” block from the list of Express VIs.\n",
    "Configure it with the following parameters:\n",
    "i. Magnitude RMS, dB\n",
    "ii. Hanning window\n",
    "\n",
    "- Connect the “data” output of the DAQ Assistant to the “Signals” input of the\n",
    "Spectral Measurements.\n",
    "\n",
    "- Connect the “FFT (RMS)” output to another waveform graph (again, not\n",
    "chart). Note that by default the X axis is “time”, so you should change this to\n",
    "“frequency” by double-clicking on the text and renaming it. FFT stands for\n",
    "“Fast Fourier Transform” and it is a computationally efficient algorithm for\n",
    "computing a Fourier transform.\n",
    "\n",
    "- Set your function generator to a 100 Hz, 1V sine wave. Run your VI and\n",
    "verify that you observe a peak in the frequency domain corresponding to the\n",
    "frequency of your function generator. Note that the frequency span is set to 0-\n",
    "500 Hz automatically, based on your sampling rate of 1 kHz.\n",
    "\n",
    "\n",
    "\n",
    "\n",
    "Question 1: Based on your frequency domain plot, what is the RMS magnitude of your\n",
    "signal in dB? What is the RMS magnitude of your noise floor, approximately? What is\n",
    "your SNR (in dB)? Keep in mind that dB is logarithmic, so even though noise and signal\n",
    "are both clearly visible on this plot, they’re really several orders of magnitude apart.\n",
    "\n",
    "Question 2: Increase the frequency of the function generator to 500 Hz in steps of 100\n",
    "Hz. What do you see? What happens in the time and frequency domain when you are\n",
    "above this frequency? What do you observe at 490 Hz and 510 Hz?\n",
    "\n",
    "Question 3: Switch the input waveform between a 50 Hz square wave and a 50 Hz sine\n",
    "wave. How does the frequency spectrum change between the square and sine wave?\n",
    "\n",
    "Question 4: What would you expect to see if you increased amplitude of the signal\n",
    "beyond what the myDAQ can acquire? Does this phenomenon occur because of a\n",
    "violation of bandwidth, dynamic range, or sensitivity?\n",
    "\n",
    "Question 5: What is the magnitude of the 100 Hz peak at 1V in dB? What is it at 10V?\n",
    "Why?\n",
    "\n",
    "4. Observing noise using the oscilloscope\n",
    "(2 students, requires oscilloscope)\n",
    "a. You can disconnect your function generator and turn it off. Stop your\n",
    "LabView program from running and remove all wires connected to your\n",
    "MyDAQ, but keep the LabView program you created open or save it.\n",
    "b. The next set of questions uses the HP oscilloscope at your lab station.\n",
    "Question 6: What is the RMS noise voltage that the oscilloscope sees without anything\n",
    "connected (no probe, no cables)? You may need to increase the Volts/div significantly\n",
    "to see this, and you will want to use “Auto” triggering. Remember that you can make\n",
    "this measurement by pressing the “Measure” button.\n",
    "c. Connect the BNC binding post adapter and connect the banana wires to the\n",
    "binding posts.\n",
    "\n",
    "Question 7: What is the RMS noise voltage now? Why did it change?\n",
    "\n",
    "Question 8: Hold the positive/negative banana wires straight, parallel, and close\n",
    "together. Observe the RMS noise. Then spread them apart. What happens to the RMS\n",
    "noise? What happens when you touch the positive terminal? Why is the noise changing\n",
    "in these cases?\n",
    "\n",
    "Question 9: Move the positive wire around. What happens when you place it near fans\n",
    "or power cables behind the computer?\n",
    "5. Measuring signals from a microphone using the MyDAQ\n",
    "(2 students, requires MyDAQ and microphone)\n",
    "a. The microphones you have are known as “electret” condenser microphones.\n",
    "The sensing element can be thought of as a small capacitor that changes its\n",
    "capacitance as a function of acoustic pressure. The sensing element is then\n",
    "connected to a transistor, which converts the capacitance into a voltage signal.\n",
    "Transistors are active, meaning they need to be powered by an external \n",
    "voltage with a series resistor. Hence, in your microphone assemblies, there\n",
    "are several leads—two short wires (one with a resistor, one without) which\n",
    "should be connected to analog input 0+ and 0- on your MyDAQ, respectively,\n",
    "and two long wires which should be connected to +5V (red) and DGND\n",
    "(black). Check out this Wikipedia entry:\n",
    "http://en.wikipedia.org/wiki/Electret_microphone.\n",
    "b. Once the microphone is properly connected, start the same LabView program\n",
    "you had running earlier. It will be helpful for the following questions to turn\n",
    "off X- and Y-axis scaling—play around with the scaling to get the best view.\n",
    "\n",
    "Question 10: What function do you think the serial resistor serves? Remember, the\n",
    "resistor is hooked up between 5V and the output signal.\n",
    "\n",
    "Question 11: What is the RMS noise voltage (in dB) with the microphone connected\n",
    "(without anyone talking into the microphone - make sure to connect 5V power)?\n",
    "\n",
    "Question 12: Talk into the microphone at a comfortable level. What is the approximate\n",
    "RMS voltage that you generate while talking? What is your SNR (in dB)?\n",
    "6. Processing audio signals using Labview\n",
    "(2 students, requires MyDAQ and microphone)\n",
    "a. Modify the VI you created earlier by changing the sampling rate to 10k.\n",
    "Change the buffer size to store 1/10th of a second. Verify that you can see\n",
    "signals from your microphone and that your frequency display now shows\n",
    "appropriate values.\n",
    "\n",
    "Question 13: Use the x-axis scale to zoom in on a very small time/voltage window of\n",
    "your signal, so you’re only looking at noise. Notice the quantization error. Can you\n",
    "estimate the voltage step size of the ADC (i.e., the voltage increment corresponding to\n",
    "the least significant bit)? Compare this to the RMS noise voltage of the microphone that\n",
    "you measured with the scope and comment on whether it is a problem or not. How\n",
    "many bits of noise do you have?\n",
    "\n",
    "Question 14: Pick the best singer in your team and have that person try to hum a pure\n",
    "tone. Observe the time/frequency plots. What is the range of frequencies that you can\n",
    "hum? How close are these to pure tones (i.e. single frequency sinusoids)? If you’re\n",
    "musically inclined, try humming a scale and observing how the frequency spectrum\n",
    "changes.\n",
    "b. Add a numeric indicator on your GUI that displays the total RMS signal\n",
    "amplitude in volts. You may find the “Amplitude and Level Measurements”\n",
    "express VI handy.\n",
    "c. Add another numeric indicator that displays the fundamental frequency. You\n",
    "may want to use the “Tone Measurements” express VI. \n",
    "d. Do you notice any differences between the spectrum of you and your\n",
    "partner’s voice? These should be particularly apparent if you have a malefemale\n",
    "team. For the remainder of the lab, try to use the toolboxes available to\n",
    "you in LabView to develop an algorithm to distinguish the two of you using\n",
    "the data in the frequency or time domain. Check out the blocks under “Signal\n",
    "Processing->Waveform Measurement”. The algorithm should output two\n",
    "Boolean values: one for each of you. These should light up LED indicators on\n",
    "your GUI. There are many approaches to this, so be creative. Here are some\n",
    "ideas:\n",
    "i. Make a decision using the power and fundamental frequency that\n",
    "you calculate for (c) and (d), with appropriate thresholds for each. If\n",
    "power is over a certain amount, assume that someone is talking. If\n",
    "the peak frequency is above/below a certain amount select one\n",
    "person or the other.\n",
    "ii. Record two waveforms of you and your partner saying the same\n",
    "thing. Store these two waveforms in a local variable. Then use a\n",
    "cross-correlation block to compare the sampled waveform with these\n",
    "saved waveforms. If the cross-correlation is particularly high,\n",
    "consider it as a match.\n",
    "\n",
    "**Question 15**: Write out your approach (even if you don’t get it to work) and take a\n",
    "screenshot of your block diagram and GUI and paste them in your report.\n",
    "\n",
    "Bonus Question! If you chose a method that involves a threshold (either on frequency\n",
    "or RMS), try varying the threshold and seeing how many times your classifier gives\n",
    "true/false positives and true/false negatives. Build a ROC curve for your method!"
   ]
  },
  {
   "cell_type": "markdown",
   "metadata": {},
   "source": [
    "## Part 1: IPython ##\n",
    "\n",
    "### _Clean up later_ :\n",
    "get a sample waveform from a function generator, sample with arduino, feed it through serial and plot the signal and its dft\n",
    "\n",
    "observe aliasing with arduino plotter\n",
    "\n",
    "observe harmonic distortion with dft\n",
    "\n",
    "oberserve quantization error with zoomed in python plot\n",
    "\n",
    "## Part 2: Microphone ##\n",
    "\n",
    "\n",
    "measure noise - measure without voice\n",
    "measure signal - measure peak amplitude of signal\n",
    "\n",
    "distinguish between you and partner's voice - compare peaks of cross correlated voice data "
   ]
  },
  {
   "cell_type": "markdown",
   "metadata": {},
   "source": [
    "Follow the sample produre from Lab1 to set up the arduino with a function generator：\n",
    "1. Start the Arduino IDE and open the .ino file in your lab1 folder\n",
    "2. Under \"Tools\", select \"Arduino/Genuino Uno\" as your Board and select the COM Port corresponding to your board.\n",
    "3. Set the sampleing Rate to be 100 samples/sec. \n",
    "4. Click the arrow button next to the check button to upload your code to your board. The text near the bottom of the IDE should say your code was uploaded successfully.\n",
    "5. Give a 30Hz 1volt peak to peak signal to the adrino board and start the plotting.  "
   ]
  },
  {
   "cell_type": "markdown",
   "metadata": {},
   "source": [
    "### Question 1 : What did you observe in the plotter? Does this obey the Nyquist Sampling Therom? "
   ]
  },
  {
   "cell_type": "markdown",
   "metadata": {},
   "source": [
    "Answer: "
   ]
  },
  {
   "cell_type": "markdown",
   "metadata": {},
   "source": [
    "Now, change the frequency of the input source to be 1 volt peak-to-peak with 50Hz, 60Hz and 80Hz in the function generator.   "
   ]
  },
  {
   "cell_type": "markdown",
   "metadata": {},
   "source": [
    "### Question 2: What did you observe in the plotter? Does this obey the Nyquist Sampling Therom? "
   ]
  },
  {
   "cell_type": "markdown",
   "metadata": {},
   "source": [
    "Answer:"
   ]
  },
  {
   "cell_type": "markdown",
   "metadata": {},
   "source": [
    "The Python code below is an introduction on how to use \"fft\" and \"ifft\" fucntion form \"scipy.fftpack\" to do fourier transfrom and inverse fourier transform. In the given arduino file, you already send the file to Serial after each run. Here, We import the data from Serial and do Fourier Analysis for it. After you run the arduino file, plaese run the code below. Make sure you "
   ]
  },
  {
   "cell_type": "code",
   "execution_count": 2,
   "metadata": {
    "collapsed": true
   },
   "outputs": [],
   "source": [
    "# allows plots to be plotted right below the cell when run\n",
    "%matplotlib inline \n",
    "import serial # the library for reading from serial com ports\n",
    "import numpy as np # naming convention for numpy library\n",
    "import matplotlib.pyplot as plt # naming convention for matplotlib\n",
    "from scipy.fftpack import fft, ifft # import discrete fourier transform and its inverse\n"
   ]
  },
  {
   "cell_type": "code",
   "execution_count": 10,
   "metadata": {
    "collapsed": false
   },
   "outputs": [],
   "source": [
    "device = \"COM8\" # com port of Arduino\n",
    "baud = 115200\n",
    "ser = serial.Serial(device, baud, timeout=10)\n",
    "\n",
    "def read_serial_data(N):\n",
    "    raw_data = []\n",
    "    while (len(raw_data) < N+10): # adjust this line to read in more/less data\n",
    "        data = ser.readline()\n",
    "        raw_data.append(data)\n",
    "    data = []\n",
    "    for i in raw_data:\n",
    "        try:\n",
    "            data.append(float(i))\n",
    "        except:\n",
    "            continue\n",
    "    return data\n",
    "raw_data = read_serial_data(3000)\n",
    "ser.close()\n"
   ]
  },
  {
   "cell_type": "code",
   "execution_count": 11,
   "metadata": {
    "collapsed": false
   },
   "outputs": [],
   "source": [
    "\n",
    "with open(\"raw_data.txt\", \"w\") as data:\n",
    "    for i in raw_data:\n",
    "        data.writelines(str(i)+'\\n')\n"
   ]
  },
  {
   "cell_type": "code",
   "execution_count": 3,
   "metadata": {
    "collapsed": false,
    "scrolled": true
   },
   "outputs": [
    {
     "data": {
      "text/plain": [
       "[<matplotlib.lines.Line2D at 0xc0909be278>]"
      ]
     },
     "execution_count": 3,
     "metadata": {},
     "output_type": "execute_result"
    },
    {
     "data": {
      "image/png": "[encoded data removed]",
      "text/plain": [
       "<matplotlib.figure.Figure at 0xc090a49550>"
      ]
     },
     "metadata": {},
     "output_type": "display_data"
    }
   ],
   "source": [
    "\n",
    "with open(\"raw_data.txt\", \"r\") as raw_data_txt:\n",
    "    loaded_data = raw_data_txt.readlines()\n",
    "    \n",
    "signal = loaded_data\n",
    "plt.plot(signal[:100])"
   ]
  },
  {
   "cell_type": "code",
   "execution_count": 4,
   "metadata": {
    "collapsed": false
   },
   "outputs": [
    {
     "data": {
      "text/plain": [
       "[<matplotlib.lines.Line2D at 0xc090f3f3c8>]"
      ]
     },
     "execution_count": 4,
     "metadata": {},
     "output_type": "execute_result"
    },
    {
     "data": {
      "image/png": "[encoded data removed]",
      "text/plain": [
       "<matplotlib.figure.Figure at 0xc090ca0e48>"
      ]
     },
     "metadata": {},
     "output_type": "display_data"
    }
   ],
   "source": [
    "dft = fft(signal)\n",
    "fs = 1000\n",
    "N = len(dft)\n",
    "freqs = [i*fs/N for i in range(N)]\n",
    "plt.plot(freqs[1:600], np.abs(dft[1:600]))"
   ]
  },
  {
   "cell_type": "code",
   "execution_count": null,
   "metadata": {
    "collapsed": true
   },
   "outputs": [],
   "source": []
  }
 ],
 "metadata": {
  "anaconda-cloud": {},
  "kernelspec": {
   "display_name": "Python 3",
   "language": "python",
   "name": "python3"
  },
  "language_info": {
   "codemirror_mode": {
    "name": "ipython",
    "version": 3
   },
   "file_extension": ".py",
   "mimetype": "text/x-python",
   "name": "python",
   "nbconvert_exporter": "python",
   "pygments_lexer": "ipython3",
   "version": "3.4.3"
  }
 },
 "nbformat": 4,
 "nbformat_minor": 0
}
