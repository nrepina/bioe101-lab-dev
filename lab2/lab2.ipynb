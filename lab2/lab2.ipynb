{
 "cells": [
  {
   "cell_type": "markdown",
   "metadata": {},
   "source": [
    "# BioE 101 Lab 2#\n",
    "\n",
    "## Objectives: ##\n",
    "\n",
    "- Learn how to program with IPython\n",
    "\n",
    "- Use IPython to plot signals in the time and frequency domain\n",
    "\n",
    "- Observe aliasing, harmonic distortion, and quantization error in sampled data\n",
    "\n",
    "- Connect a microphone to your Arduino\n",
    "\n",
    "- Estimate noise and SNR from microphone recordings\n",
    "\n",
    "- Build an algorithm with IPython to distinguish you and your partner’s voice\n",
    "\n",
    "\n"
   ]
  },
  {
   "cell_type": "markdown",
   "metadata": {},
   "source": [
    "## Part 1: IPython ##\n",
    "\n",
    "### _Clean up later_ :\n",
    "get a sample waveform from a function generator, sample with arduino, feed it through serial and plot the signal and its dft\n",
    "\n",
    "observe aliasing with arduino plotter\n",
    "\n",
    "observe harmonic distortion with dft\n",
    "\n",
    "oberserve quantization error with zoomed in python plot\n",
    "\n",
    "## Part 2: Microphone ##\n",
    "\n",
    "measure noise - measure without voice\n",
    "measure signal - measure peak amplitude of signal\n",
    "\n",
    "distinguish between you and partner's voice - compare peaks of cross correlated voice data "
   ]
  },
  {
   "cell_type": "markdown",
   "metadata": {},
   "source": [
    "Follow the sample produre from Lab1 to set up the arduino with a function generator：\n",
    "1. Start the Arduino IDE and open the .ino file in your lab1 folder\n",
    "2. Under \"Tools\", select \"Arduino/Genuino Uno\" as your Board and select the COM Port corresponding to your board.\n",
    "3. Set the sampleing Rate to be 100 samples/sec. \n",
    "4. Click the arrow button next to the check button to upload your code to your board. The text near the bottom of the IDE should say your code was uploaded successfully.\n",
    "5. Give a 30Hz 1volt peak to peak signal to the adrino board and start the plotting.  "
   ]
  },
  {
   "cell_type": "markdown",
   "metadata": {},
   "source": [
    "### Question 1 : What did you observe in the plotter? Does this obey the Nyquist Sampling Therom? "
   ]
  },
  {
   "cell_type": "markdown",
   "metadata": {},
   "source": [
    "Answer: "
   ]
  },
  {
   "cell_type": "markdown",
   "metadata": {},
   "source": [
    "Now, change the frequency of the input source to be 1 volt peak-to-peak with 50Hz, 60Hz and 80Hz in the function generator.   "
   ]
  },
  {
   "cell_type": "markdown",
   "metadata": {},
   "source": [
    "### Question 2: What did you observe in the plotter? Does this obey the Nyquist Sampling Therom? "
   ]
  },
  {
   "cell_type": "markdown",
   "metadata": {},
   "source": [
    "Answer:"
   ]
  },
  {
   "cell_type": "markdown",
   "metadata": {},
   "source": [
    "The Python code below is an introduction on how to use \"fft\" and \"ifft\" fucntion form \"scipy.fftpack\" to do fourier transfrom and inverse fourier transform. In the given arduino file, you already send the file to Serial after each run. Here, We import the data from Serial and do Fourier Analysis for it. After you run the arduino file, plaese run the code below. Make sure you "
   ]
  },
  {
   "cell_type": "code",
   "execution_count": 1,
   "metadata": {
    "collapsed": true
   },
   "outputs": [],
   "source": [
    "# allows plots to be plotted right below the cell when run\n",
    "%matplotlib inline \n",
    "import serial # the library for reading from serial com ports\n",
    "import numpy as np # naming convention for numpy library\n",
    "import matplotlib.pyplot as plt # naming convention for matplotlib\n",
    "from scipy.fftpack import fft, ifft # import discrete fourier transform and its inverse\n"
   ]
  },
  {
   "cell_type": "code",
   "execution_count": 3,
   "metadata": {
    "collapsed": false
   },
   "outputs": [],
   "source": [
    "device = \"COM8\" # com port of Arduino\n",
    "baud = 115200\n",
    "ser = serial.Serial(device, baud, timeout=10)\n",
    "\n",
    "def read_serial_data(N):\n",
    "    raw_data = []\n",
    "    while (len(raw_data) < N+10): # adjust this line to read in more/less data\n",
    "        data = ser.readline()\n",
    "        raw_data.append(data)\n",
    "    data = []\n",
    "    for i in raw_data:\n",
    "        try:\n",
    "            data.append(float(i))\n",
    "        except:\n",
    "            continue\n",
    "    return data\n",
    "ser.close()\n",
    "\n",
    "raw_data = read_serial_data(2000)"
   ]
  },
  {
   "cell_type": "code",
   "execution_count": 4,
   "metadata": {
    "collapsed": false
   },
   "outputs": [],
   "source": [
    "\n",
    "with open(\"raw_data.txt\", \"w\") as data:\n",
    "    for i in raw_data:\n",
    "        data.writelines(str(i)+'\\n')\n"
   ]
  },
  {
   "cell_type": "code",
   "execution_count": 13,
   "metadata": {
    "collapsed": false,
    "scrolled": true
   },
   "outputs": [
    {
     "name": "stdout",
     "output_type": "stream",
     "text": [
      "2100\n"
     ]
    },
    {
     "data": {
      "text/plain": [
       "[<matplotlib.lines.Line2D at 0x9c3555da20>]"
      ]
     },
     "execution_count": 13,
     "metadata": {},
     "output_type": "execute_result"
    },
    {
     "data": {
      "image/png": "[encoded data removed]",
      "text/plain": [
       "<matplotlib.figure.Figure at 0x9c341bb080>"
      ]
     },
     "metadata": {},
     "output_type": "display_data"
    }
   ],
   "source": [
    "\n",
    "with open(\"raw_data.txt\", \"r\") as raw_data_txt:\n",
    "    loaded_data = raw_data_txt.readlines()\n",
    "    \n",
    "signal = loaded_data\n",
    "plt.plot(signal[:200])"
   ]
  },
  {
   "cell_type": "code",
   "execution_count": 6,
   "metadata": {
    "collapsed": false
   },
   "outputs": [
    {
     "data": {
      "text/plain": [
       "[<matplotlib.lines.Line2D at 0x9c3410c748>]"
      ]
     },
     "execution_count": 6,
     "metadata": {},
     "output_type": "execute_result"
    },
    {
     "data": {
      "image/png": "[encoded data removed]",
      "text/plain": [
       "<matplotlib.figure.Figure at 0x9c33d99f60>"
      ]
     },
     "metadata": {},
     "output_type": "display_data"
    }
   ],
   "source": [
    "dft = fft(signal)\n",
    "fs = 1000\n",
    "N = len(dft)\n",
    "freqs = [i*fs/N for i in range(N)]\n",
    "plt.plot(freqs[1:300], np.abs(dft[1:300]))"
   ]
  }
 ],
 "metadata": {
  "anaconda-cloud": {},
  "kernelspec": {
   "display_name": "Python 3",
   "language": "python",
   "name": "python3"
  },
  "language_info": {
   "codemirror_mode": {
    "name": "ipython",
    "version": 3
   },
   "file_extension": ".py",
   "mimetype": "text/x-python",
   "name": "python",
   "nbconvert_exporter": "python",
   "pygments_lexer": "ipython3",
   "version": "3.5.2"
  }
 },
 "nbformat": 4,
 "nbformat_minor": 0
}
